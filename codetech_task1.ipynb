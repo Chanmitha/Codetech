{
  "nbformat": 4,
  "nbformat_minor": 0,
  "metadata": {
    "colab": {
      "provenance": []
    },
    "kernelspec": {
      "name": "python3",
      "display_name": "Python 3"
    },
    "language_info": {
      "name": "python"
    }
  },
  "cells": [
    {
      "cell_type": "markdown",
      "source": [],
      "metadata": {
        "id": "i0VlCSthwL4e"
      }
    },
    {
      "cell_type": "markdown",
      "source": [
        "Step 1: Load the Titanic Dataset"
      ],
      "metadata": {
        "id": "wYwv9yeywM4y"
      }
    },
    {
      "cell_type": "code",
      "execution_count": null,
      "metadata": {
        "colab": {
          "base_uri": "https://localhost:8080/"
        },
        "id": "U0UWp9jut9hB",
        "outputId": "d5287ace-c997-42a4-b446-44d409bfddd6"
      },
      "outputs": [
        {
          "output_type": "stream",
          "name": "stdout",
          "text": [
            "   PassengerId  Survived  Pclass  \\\n",
            "0            1         0       3   \n",
            "1            2         1       1   \n",
            "2            3         1       3   \n",
            "3            4         1       1   \n",
            "4            5         0       3   \n",
            "\n",
            "                                                Name     Sex   Age  SibSp  \\\n",
            "0                            Braund, Mr. Owen Harris    male  22.0      1   \n",
            "1  Cumings, Mrs. John Bradley (Florence Briggs Th...  female  38.0      1   \n",
            "2                             Heikkinen, Miss. Laina  female  26.0      0   \n",
            "3       Futrelle, Mrs. Jacques Heath (Lily May Peel)  female  35.0      1   \n",
            "4                           Allen, Mr. William Henry    male  35.0      0   \n",
            "\n",
            "   Parch            Ticket     Fare Cabin Embarked  \n",
            "0      0         A/5 21171   7.2500   NaN        S  \n",
            "1      0          PC 17599  71.2833   C85        C  \n",
            "2      0  STON/O2. 3101282   7.9250   NaN        S  \n",
            "3      0            113803  53.1000  C123        S  \n",
            "4      0            373450   8.0500   NaN        S  \n"
          ]
        }
      ],
      "source": [
        "import pandas as pd\n",
        "\n",
        "# Load Titanic dataset from an online source\n",
        "df = pd.read_csv(\"https://raw.githubusercontent.com/datasciencedojo/datasets/master/titanic.csv\")\n",
        "\n",
        "# Display the first few rows\n",
        "print(df.head())\n"
      ]
    },
    {
      "cell_type": "markdown",
      "source": [
        "Step 2: Handle Missing Values"
      ],
      "metadata": {
        "id": "n_tYxCqnwU7R"
      }
    },
    {
      "cell_type": "code",
      "source": [
        "# Fill missing 'Embarked' values correctly to avoid FutureWarning\n",
        "df.loc[:, \"Embarked\"] = df[\"Embarked\"].fillna(df[\"Embarked\"].mode()[0])\n",
        "\n",
        "print(\"Missing values in 'Embarked' handled successfully without warnings.\")\n"
      ],
      "metadata": {
        "colab": {
          "base_uri": "https://localhost:8080/"
        },
        "id": "ms5yMH9awnuh",
        "outputId": "76a96c70-afb9-487b-94fd-29783cddb664"
      },
      "execution_count": null,
      "outputs": [
        {
          "output_type": "stream",
          "name": "stdout",
          "text": [
            "Missing values in 'Embarked' handled successfully without warnings.\n"
          ]
        }
      ]
    },
    {
      "cell_type": "markdown",
      "source": [
        "Step 3: Encode Categorical Features (Sex & Embarked)"
      ],
      "metadata": {
        "id": "t8m1eoANxniX"
      }
    },
    {
      "cell_type": "code",
      "source": [
        "# Convert 'Sex' column to binary encoding\n",
        "df[\"Sex\"] = df[\"Sex\"].map({\"male\": 1, \"female\": 0})\n",
        "\n",
        "print(\"Encoded 'Sex' column successfully.\")\n"
      ],
      "metadata": {
        "colab": {
          "base_uri": "https://localhost:8080/"
        },
        "id": "K-7QlYAfwncl",
        "outputId": "bc2bd27d-6e17-48cb-e297-c06267944313"
      },
      "execution_count": null,
      "outputs": [
        {
          "output_type": "stream",
          "name": "stdout",
          "text": [
            "Encoded 'Sex' column successfully.\n"
          ]
        }
      ]
    },
    {
      "cell_type": "markdown",
      "source": [
        "One-Hot Encode 'Embarked' Column"
      ],
      "metadata": {
        "id": "NCDbD_oTxzOr"
      }
    },
    {
      "cell_type": "code",
      "source": [
        "from sklearn.preprocessing import OneHotEncoder\n",
        "\n",
        "# Initialize encoder with correct parameter\n",
        "encoder = OneHotEncoder(sparse_output=False, drop=\"first\")  # Drop first to avoid redundancy\n",
        "\n",
        "# Transform the 'Embarked' column\n",
        "encoded_embarked = encoder.fit_transform(df[[\"Embarked\"]])\n",
        "\n",
        "# Convert to DataFrame\n",
        "embarked_df = pd.DataFrame(encoded_embarked, columns=encoder.get_feature_names_out([\"Embarked\"]))\n",
        "\n",
        "# Merge encoded features into original DataFrame & drop 'Embarked'\n",
        "df = pd.concat([df, embarked_df], axis=1).drop(columns=[\"Embarked\"])\n",
        "\n",
        "print(\"One-hot encoding applied to 'Embarked' column successfully.\")\n"
      ],
      "metadata": {
        "colab": {
          "base_uri": "https://localhost:8080/"
        },
        "id": "RN1c0-sLwXek",
        "outputId": "6bec0155-8a65-488f-b837-7d7f93d54c17"
      },
      "execution_count": null,
      "outputs": [
        {
          "output_type": "stream",
          "name": "stdout",
          "text": [
            "One-hot encoding applied to 'Embarked' column successfully.\n"
          ]
        }
      ]
    },
    {
      "cell_type": "markdown",
      "source": [
        "Step 4: Scale Numerical Features (Age & Fare)"
      ],
      "metadata": {
        "id": "XVeq8xSNyDBL"
      }
    },
    {
      "cell_type": "code",
      "source": [
        "from sklearn.preprocessing import StandardScaler\n",
        "\n",
        "# Initialize scaler\n",
        "scaler = StandardScaler()\n",
        "\n",
        "# Select numerical columns to scale\n",
        "numerical_columns = [\"Age\", \"Fare\"]\n",
        "\n",
        "# Apply scaling\n",
        "df[numerical_columns] = scaler.fit_transform(df[numerical_columns])\n",
        "\n",
        "print(\"Feature scaling applied to 'Age' and 'Fare' successfully.\")\n"
      ],
      "metadata": {
        "colab": {
          "base_uri": "https://localhost:8080/"
        },
        "id": "FNRFpPmcx2c0",
        "outputId": "163e4d03-58f2-48ff-8457-ced757137510"
      },
      "execution_count": null,
      "outputs": [
        {
          "output_type": "stream",
          "name": "stdout",
          "text": [
            "Feature scaling applied to 'Age' and 'Fare' successfully.\n"
          ]
        }
      ]
    },
    {
      "cell_type": "markdown",
      "source": [
        "Step 5: Handle Outliers (Fare Column)"
      ],
      "metadata": {
        "id": "AtjGAS2WyLb8"
      }
    },
    {
      "cell_type": "code",
      "source": [
        "# Define IQR boundaries\n",
        "Q1 = df[\"Fare\"].quantile(0.25)  # First quartile (25th percentile)\n",
        "Q3 = df[\"Fare\"].quantile(0.75)  # Third quartile (75th percentile)\n",
        "IQR = Q3 - Q1  # Interquartile range\n",
        "\n",
        "# Define outlier bounds\n",
        "lower_bound = Q1 - 1.5 * IQR\n",
        "upper_bound = Q3 + 1.5 * IQR\n",
        "\n",
        "# Remove outliers\n",
        "df = df[(df[\"Fare\"] >= lower_bound) & (df[\"Fare\"] <= upper_bound)]\n",
        "\n",
        "print(\"Outliers in 'Fare' removed successfully.\")\n"
      ],
      "metadata": {
        "colab": {
          "base_uri": "https://localhost:8080/"
        },
        "id": "K2Ve2uIsyGy8",
        "outputId": "909aaa1a-696e-4067-b72b-3a206dfd4d38"
      },
      "execution_count": null,
      "outputs": [
        {
          "output_type": "stream",
          "name": "stdout",
          "text": [
            "Outliers in 'Fare' removed successfully.\n"
          ]
        }
      ]
    },
    {
      "cell_type": "markdown",
      "source": [
        "Step 6: Save Processed Data"
      ],
      "metadata": {
        "id": "V3ZX5NPcySGA"
      }
    },
    {
      "cell_type": "code",
      "source": [
        "# Save processed data to CSV\n",
        "df.to_csv(\"titanic_processed.csv\", index=False)\n",
        "\n",
        "print(\"Data preprocessing complete. Processed file saved as 'titanic_processed.csv'.\")\n"
      ],
      "metadata": {
        "colab": {
          "base_uri": "https://localhost:8080/"
        },
        "id": "gi4uCfu-yN-F",
        "outputId": "8b05677d-5665-4026-aeb2-854e1a7f3d6c"
      },
      "execution_count": null,
      "outputs": [
        {
          "output_type": "stream",
          "name": "stdout",
          "text": [
            "Data preprocessing complete. Processed file saved as 'titanic_processed.csv'.\n"
          ]
        }
      ]
    },
    {
      "cell_type": "markdown",
      "source": [
        "Exploratory Data Analysis (EDA) on Processed Titanic Data"
      ],
      "metadata": {
        "id": "bLHHZCHByecC"
      }
    },
    {
      "cell_type": "markdown",
      "source": [
        "Step 1: Load the Processed Dataset"
      ],
      "metadata": {
        "id": "yCb-DyMRyg7j"
      }
    },
    {
      "cell_type": "code",
      "source": [
        "import pandas as pd\n",
        "import matplotlib.pyplot as plt\n",
        "import seaborn as sns\n",
        "\n",
        "# Load processed Titanic dataset\n",
        "df = pd.read_csv(\"titanic_processed.csv\")\n",
        "\n",
        "# Display basic info\n",
        "print(df.info())\n",
        "print(df.describe())\n"
      ],
      "metadata": {
        "colab": {
          "base_uri": "https://localhost:8080/"
        },
        "id": "bkvuE62WykMq",
        "outputId": "5eaa391e-4a7b-465f-fdc9-7f6b9e46a8c0"
      },
      "execution_count": null,
      "outputs": [
        {
          "output_type": "stream",
          "name": "stdout",
          "text": [
            "<class 'pandas.core.frame.DataFrame'>\n",
            "RangeIndex: 775 entries, 0 to 774\n",
            "Data columns (total 14 columns):\n",
            " #   Column        Non-Null Count  Dtype  \n",
            "---  ------        --------------  -----  \n",
            " 0   PassengerId   775 non-null    int64  \n",
            " 1   Survived      775 non-null    int64  \n",
            " 2   Pclass        775 non-null    int64  \n",
            " 3   Name          775 non-null    object \n",
            " 4   Sex           775 non-null    int64  \n",
            " 5   Age           775 non-null    float64\n",
            " 6   SibSp         775 non-null    int64  \n",
            " 7   Parch         775 non-null    int64  \n",
            " 8   Ticket        775 non-null    object \n",
            " 9   Fare          775 non-null    float64\n",
            " 10  Cabin         114 non-null    object \n",
            " 11  Embarked_Q    775 non-null    float64\n",
            " 12  Embarked_S    775 non-null    float64\n",
            " 13  Embarked_nan  775 non-null    float64\n",
            "dtypes: float64(5), int64(6), object(3)\n",
            "memory usage: 84.9+ KB\n",
            "None\n",
            "       PassengerId    Survived     Pclass         Sex         Age       SibSp  \\\n",
            "count   775.000000  775.000000  775.00000  775.000000  775.000000  775.000000   \n",
            "mean    445.806452    0.339355    2.48000    0.685161   -0.045806    0.437419   \n",
            "std     260.116285    0.473796    0.73439    0.464752    0.983476    0.899838   \n",
            "min       1.000000    0.000000    1.00000    0.000000   -2.253155    0.000000   \n",
            "25%     213.500000    0.000000    2.00000    0.000000   -0.592481    0.000000   \n",
            "50%     450.000000    0.000000    3.00000    1.000000    0.000000    0.000000   \n",
            "75%     670.500000    1.000000    3.00000    1.000000    0.330972    1.000000   \n",
            "max     891.000000    1.000000    3.00000    1.000000    3.870872    5.000000   \n",
            "\n",
            "            Parch        Fare  Embarked_Q  Embarked_S  Embarked_nan  \n",
            "count  775.000000  775.000000  775.000000  775.000000         775.0  \n",
            "mean     0.340645   -0.289579    0.096774    0.753548           0.0  \n",
            "std      0.785914    0.273391    0.295841    0.431223           0.0  \n",
            "min      0.000000   -0.648422    0.000000    0.000000           0.0  \n",
            "25%      0.000000   -0.489442    0.000000    1.000000           0.0  \n",
            "50%      0.000000   -0.386671    0.000000    1.000000           0.0  \n",
            "75%      0.000000   -0.124920    0.000000    1.000000           0.0  \n",
            "max      6.000000    0.660333    1.000000    1.000000           0.0  \n"
          ]
        }
      ]
    },
    {
      "cell_type": "markdown",
      "source": [
        "Step 2: Check Survival Rate"
      ],
      "metadata": {
        "id": "wnCD6bGey3zr"
      }
    },
    {
      "cell_type": "code",
      "source": [
        "# Countplot of survival distribution\n",
        "sns.countplot(x=\"Survived\", data=df, palette=\"coolwarm\")\n",
        "plt.title(\"Survival Count\")\n",
        "plt.xlabel(\"Survived (0 = No, 1 = Yes)\")\n",
        "plt.ylabel(\"Count\")\n",
        "plt.show()\n",
        "\n",
        "# Print survival rate\n",
        "survival_rate = df[\"Survived\"].mean() * 100\n",
        "print(f\"Survival Rate: {survival_rate:.2f}%\")\n"
      ],
      "metadata": {
        "colab": {
          "base_uri": "https://localhost:8080/",
          "height": 576
        },
        "id": "akbfH8LZywwD",
        "outputId": "379f5b12-92ad-43fd-9b27-54c18f56f7eb"
      },
      "execution_count": null,
      "outputs": [
        {
          "output_type": "stream",
          "name": "stderr",
          "text": [
            "<ipython-input-16-ec296402cbf7>:2: FutureWarning: \n",
            "\n",
            "Passing `palette` without assigning `hue` is deprecated and will be removed in v0.14.0. Assign the `x` variable to `hue` and set `legend=False` for the same effect.\n",
            "\n",
            "  sns.countplot(x=\"Survived\", data=df, palette=\"coolwarm\")\n"
          ]
        },
        {
          "output_type": "display_data",
          "data": {
            "text/plain": [
              "<Figure size 640x480 with 1 Axes>"
            ],
            "image/png": "[encoded data removed]"
          },
          "metadata": {}
        },
        {
          "output_type": "stream",
          "name": "stdout",
          "text": [
            "Survival Rate: 33.94%\n"
          ]
        }
      ]
    },
    {
      "cell_type": "markdown",
      "source": [
        "Step 3: Survival Rate by Gender"
      ],
      "metadata": {
        "id": "pX2EcDZhy94w"
      }
    },
    {
      "cell_type": "code",
      "source": [
        "# Group survival rate by Sex\n",
        "sns.barplot(x=\"Sex\", y=\"Survived\", data=df, palette=\"pastel\")\n",
        "plt.title(\"Survival Rate by Gender\")\n",
        "plt.xlabel(\"Gender (0 = Female, 1 = Male)\")\n",
        "plt.ylabel(\"Survival Rate\")\n",
        "plt.show()\n"
      ],
      "metadata": {
        "colab": {
          "base_uri": "https://localhost:8080/",
          "height": 559
        },
        "id": "BE6GYmYry53a",
        "outputId": "981c3517-9b74-4beb-8ed8-3f11b28e42e8"
      },
      "execution_count": null,
      "outputs": [
        {
          "output_type": "stream",
          "name": "stderr",
          "text": [
            "<ipython-input-17-9d8a1a092e38>:2: FutureWarning: \n",
            "\n",
            "Passing `palette` without assigning `hue` is deprecated and will be removed in v0.14.0. Assign the `x` variable to `hue` and set `legend=False` for the same effect.\n",
            "\n",
            "  sns.barplot(x=\"Sex\", y=\"Survived\", data=df, palette=\"pastel\")\n"
          ]
        },
        {
          "output_type": "display_data",
          "data": {
            "text/plain": [
              "<Figure size 640x480 with 1 Axes>"
            ],
            "image/png": "[encoded data removed]"
          },
          "metadata": {}
        }
      ]
    },
    {
      "cell_type": "code",
      "source": [],
      "metadata": {
        "id": "Pfc3bbOoy_2P"
      },
      "execution_count": null,
      "outputs": []
    }
  ]
}